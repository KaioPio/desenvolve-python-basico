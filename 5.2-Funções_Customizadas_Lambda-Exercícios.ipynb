{
 "cells": [
  {
   "cell_type": "markdown",
   "id": "cbdff5a5",
   "metadata": {},
   "source": [
    "# Módulo 5 - Funções\n",
    "\n",
    "## Aulas 5.2 - Funções Customizadas e 5.4 Funções ```lambda```"
   ]
  },
  {
   "cell_type": "markdown",
   "id": "28a3fee2",
   "metadata": {},
   "source": [
    "### Q1.\n",
    "\n",
    "- Sabendo que o código a seguir calcula o fatorial de n, escreva uma função chamada ```fatorial()``` que recebe um inteiro ```n``` como parâmetro e retorna o resultado do fatorial de ```n```. \n",
    "- No programa principal, peça ao usuário o valor de ```n```, chame a sua função e imprima o retorno.\n",
    "\n",
    "```python\n",
    "fat = 1\n",
    "for i in range(1, n+1):\n",
    "    fat *= i \n",
    "```"
   ]
  },
  {
   "cell_type": "code",
   "execution_count": null,
   "id": "d126b3a5",
   "metadata": {},
   "outputs": [],
   "source": [
    "## Crie aqui a função fatorial()\n",
    "## lembre-se de executar a célula para que \n",
    "## a função passe a existir e possa ser chamada\n"
   ]
  },
  {
   "cell_type": "code",
   "execution_count": 14,
   "id": "6e4fe64e",
   "metadata": {},
   "outputs": [
    {
     "name": "stdin",
     "output_type": "stream",
     "text": [
      " 3\n"
     ]
    },
    {
     "name": "stdout",
     "output_type": "stream",
     "text": [
      "6\n"
     ]
    }
   ],
   "source": [
    "## Escreva aqui o programa principal e execute a célula\n",
    "def fatorial(n):\n",
    "    fat = 1\n",
    "    for i in range(1, n+1):\n",
    "        fat *= i \n",
    "    return fat\n",
    "\n",
    "n = int(input(\"\"))\n",
    "fator = fatorial(n)\n",
    "print(fator)"
   ]
  },
  {
   "cell_type": "markdown",
   "id": "c0a1f599",
   "metadata": {},
   "source": [
    "### Q2.\n",
    "\n",
    "- Escreva uma função em Python chamada ```soma_quadrados``` que recebe dois números como parâmetros e retorna a soma dos seus quadrados. \n",
    "- No programa principal solicite ao usuário que insira dois números e utilize a função para exibir a soma dos quadrados."
   ]
  },
  {
   "cell_type": "code",
   "execution_count": 23,
   "id": "6dbddaad",
   "metadata": {},
   "outputs": [],
   "source": [
    "## Crie aqui a função soma_quadrados()\n",
    "\n",
    "def soma_quadrados(x,y):\n",
    "    soma = 0\n",
    "    soma = (x*x) + (y*y)\n",
    "    return soma\n",
    "    \n"
   ]
  },
  {
   "cell_type": "code",
   "execution_count": 24,
   "id": "9175a7da",
   "metadata": {},
   "outputs": [
    {
     "name": "stdout",
     "output_type": "stream",
     "text": [
      "Vamos fazer o calculo da soma de doi quadrados!\n"
     ]
    },
    {
     "name": "stdin",
     "output_type": "stream",
     "text": [
      "Qual o valor de X? 2\n",
      "Qual o valor de Y? 2\n"
     ]
    },
    {
     "name": "stdout",
     "output_type": "stream",
     "text": [
      "A soma dos quadrados é 8\n"
     ]
    }
   ],
   "source": [
    "## Escreva aqui o programa principal e execute a célula\n",
    "    \n",
    "print(\"Vamos fazer o calculo da soma de doi quadrados!\")\n",
    "x = int(input(\"Qual o valor de X?\"))\n",
    "y = int(input(\"Qual o valor de Y?\"))\n",
    "somaq = soma_quadrados(x,y)\n",
    "print(f\"A soma dos quadrados é\", somaq)"
   ]
  },
  {
   "cell_type": "markdown",
   "id": "6ba34ce0",
   "metadata": {},
   "source": [
    "### Q3.\n",
    "\n",
    "- Crie uma função em Python chamada ```soma_digitos``` que recebe um número inteiro como parâmetro e retorna a soma dos seus dígitos. Por exemplo, para o número 123, a função deve retornar 6, $(1 + 2 + 3)$.\n",
    "    - O desafio aqui é separar os dígitos de um número inteiro usando operações aritméticas <br> <br>\n",
    "\n",
    "- No programa principal solicite ao usuário que insira um número e utilize a função ```soma_digitos``` para calcular e exibir a soma dos seus dígitos."
   ]
  },
  {
   "cell_type": "code",
   "execution_count": 36,
   "id": "34838ebf",
   "metadata": {},
   "outputs": [],
   "source": [
    "## Crie aqui a função soma_digitos()\n",
    "def soma_digitos(n):\n",
    "    soma = sum(int(digito) for digito in str(n)) \n",
    "    return soma"
   ]
  },
  {
   "cell_type": "code",
   "execution_count": 37,
   "id": "27c35b21",
   "metadata": {},
   "outputs": [
    {
     "name": "stdout",
     "output_type": "stream",
     "text": [
      "Vamos somar uma sequencia de numeros!\n"
     ]
    },
    {
     "name": "stdin",
     "output_type": "stream",
     "text": [
      "Indique uma sequência de numeros! 0123\n"
     ]
    },
    {
     "name": "stdout",
     "output_type": "stream",
     "text": [
      "A soma da sequência é  6\n"
     ]
    }
   ],
   "source": [
    "## Escreva aqui o programa principal e execute a célula\n",
    "print(\"Vamos somar uma sequencia de numeros!\")\n",
    "n = int(input(\"Indique uma sequência de numeros!\"))\n",
    "seqn = soma_digitos(n)\n",
    "print(\"A soma da sequência é \", seqn)"
   ]
  },
  {
   "cell_type": "markdown",
   "id": "c318b159",
   "metadata": {},
   "source": [
    "### Q4.\n",
    "\n",
    "- Crie a função ```inverteValor()``` que recebe um inteiro de qualquer tamanho e retorna esse valor invertido usando apenas operações aritméticas\n",
    "- Crie a função ```verificaInverso()``` que recebe o valor original e o valor invertido e retorna verdadeiro se ambos forem igualmente par ou igualmente ímpar. Retorne falso caso contrário.\n",
    "- No programa principal, peça um valor do usuário e imprima o retorno de ambas as funções.\n"
   ]
  },
  {
   "cell_type": "code",
   "execution_count": 50,
   "id": "e4e47d1d",
   "metadata": {},
   "outputs": [],
   "source": [
    "## Crie aqui as funções inverteValor() e verificaInverso()\n",
    "\n",
    "def invertevalor(n):\n",
    "    inve = int(str(n)[::-1])\n",
    "    return inve\n",
    "\n",
    "def verificainverso(invert, n):\n",
    "    if (n % 2 == 0 and invert % 2 == 0) or (n % 2 != 0 and invert % 2 != 0):\n",
    "        return True\n",
    "    else:\n",
    "        return False\n",
    "    \n",
    "    "
   ]
  },
  {
   "cell_type": "code",
   "execution_count": 52,
   "id": "a9514e56",
   "metadata": {},
   "outputs": [
    {
     "name": "stdin",
     "output_type": "stream",
     "text": [
      "Me informe um valor 25\n"
     ]
    },
    {
     "name": "stdout",
     "output_type": "stream",
     "text": [
      "O valor invertido do numero informado é 52\n",
      "O valor original e o invertido são ambos pares ou ambos ímpares? False\n"
     ]
    }
   ],
   "source": [
    "## Escreva aqui o programa principal e execute a célula\n",
    "n = int(input(\"Me informe um valor\"))\n",
    "invert = invertevalor(n)\n",
    "print(\"O valor invertido do numero informado é\", invert)\n",
    "resultado = verificainverso(invert, n)\n",
    "print(\"O valor original e o invertido são ambos pares ou ambos ímpares?\", resultado)"
   ]
  },
  {
   "cell_type": "markdown",
   "id": "329be966",
   "metadata": {},
   "source": [
    "### Q5.\n",
    "\n",
    "Você está desenvolvendo um programa para auxiliar em cálculos de geometria básica. Crie as seguintes funções:\n",
    "- A função ```calcula_perimetro_triangulo()``` que recebe três inteiros correspondentes aos lados de um triângulo e retorna o perímetro do triângulo, ou seja, a soma dos seus lados.\n",
    "- A função ```calcula_perimetro_circulo()``` que recebe um inteiro referente ao raio do círculo e retorna o perímetro do círculo, dado por $2 \\pi r$. Use a constante $\\pi$ da biblioteca ```math```.\n",
    "- A função ```calcula_perimetro_retangulo()``` que possui um parâmetro obrigatório ```lado1``` e um opcional ```lado2```, ambos inteiros. Se o valor opcional não for fornecido, significa que se trata de um quadrado. Sua função deve calcular e retornar o perímetro do retângulo, ou seja, a soma de seus lados. \n",
    "    - Para o quadrado, é dado por $4 \\times lado1$\n",
    "    - Para o retângulo é dado por $2 \\times lado1 + 2 \\times lado2$\n",
    "    \n",
    "- No programa principal apresente um menu com as opções disponíveis do seu sistema e uma quarta opção ```Sair```. Solicite ao usuário a opção desejada, solicite as entradas correspondentes à opção escolhida, invoque a respective função e apresente o seu retorno. Seu programa deve retornar ao menu até que o usuário escolha a opção ```Sair```\n",
    "\n",
    "Exemplo de interação:\n",
    "```\n",
    "1 - Calcular perímetro triângulo\n",
    "2 - Calcular perímetro círculo\n",
    "3 - Calcular perímetro retângulo\n",
    "4 - Sair\n",
    "\n",
    "Opção: 1\n",
    "Digite os três lados do triângulo:\n",
    "3\n",
    "4\n",
    "5\n",
    "O perímetro é: 12\n",
    "\n",
    "1 - Calcular perímetro triângulo\n",
    "2 - Calcular perímetro círculo\n",
    "3 - Calcular perímetro retângulo\n",
    "4 - Sair\n",
    "\n",
    "Opção: 3\n",
    "Informe os dois lados do retângulo. Se for um quadrado, digite 0 para o segundo valor:\n",
    "5\n",
    "0\n",
    "O perímetro é: 20\n",
    "\n",
    "1 - Calcular perímetro triângulo\n",
    "2 - Calcular perímetro círculo\n",
    "3 - Calcular perímetro retângulo\n",
    "4 - Sair\n",
    "\n",
    "Opção: 4\n",
    "```"
   ]
  },
  {
   "cell_type": "code",
   "execution_count": 16,
   "id": "0793d328",
   "metadata": {},
   "outputs": [],
   "source": [
    "## Crie aqui as funções \n",
    "def calcula_perimetro_triangulo(x, y, z):\n",
    "    somat = x + y + z \n",
    "    return somat\n",
    "def calcula_perimetro_circulo(x):\n",
    "    somac = (2 * math.pi) * x\n",
    "    return somac \n",
    "\n",
    "def calcula_perimetro_retangulo(x, y):\n",
    "    if y > 0:\n",
    "        somare = (2 * x) + (2 * y)\n",
    "    else:\n",
    "        somare = 4 * x \n",
    "    return somare\n"
   ]
  },
  {
   "cell_type": "code",
   "execution_count": 48,
   "id": "36269c71",
   "metadata": {},
   "outputs": [
    {
     "name": "stdout",
     "output_type": "stream",
     "text": [
      "Vamos fazer calculo do perimetro de formas geometricas?(Triangulo, Circulo, Retangulo e Quadrado)\n",
      "Digite a opção que deseja:\n",
      " 1 - Calcular perímetro triângulo \n",
      " 2 - Calcular perímetro círculo \n",
      " 3 - Calcular perímetro retângulo \n",
      " 4 - Sair\n"
     ]
    },
    {
     "name": "stdin",
     "output_type": "stream",
     "text": [
      " 1\n"
     ]
    },
    {
     "name": "stdout",
     "output_type": "stream",
     "text": [
      "Digite o primeiro valor dos lados do triangulo\n"
     ]
    },
    {
     "name": "stdin",
     "output_type": "stream",
     "text": [
      " 20\n"
     ]
    },
    {
     "name": "stdout",
     "output_type": "stream",
     "text": [
      "Digite o segundo valor dos lados do triangulo\n"
     ]
    },
    {
     "name": "stdin",
     "output_type": "stream",
     "text": [
      " 20\n"
     ]
    },
    {
     "name": "stdout",
     "output_type": "stream",
     "text": [
      "Digite o terceiro valor dos lados do triangulo\n"
     ]
    },
    {
     "name": "stdin",
     "output_type": "stream",
     "text": [
      " 20\n"
     ]
    },
    {
     "name": "stdout",
     "output_type": "stream",
     "text": [
      "O Perimetro é: 60\n",
      "Vamos fazer calculo do perimetro de formas geometricas?(Triangulo, Circulo, Retangulo e Quadrado)\n",
      "Digite a opção que deseja:\n",
      " 1 - Calcular perímetro triângulo \n",
      " 2 - Calcular perímetro círculo \n",
      " 3 - Calcular perímetro retângulo \n",
      " 4 - Sair\n"
     ]
    },
    {
     "name": "stdin",
     "output_type": "stream",
     "text": [
      " 2\n"
     ]
    },
    {
     "name": "stdout",
     "output_type": "stream",
     "text": [
      "Para calcular o perimetro do circulo, informe o raio:\n"
     ]
    },
    {
     "name": "stdin",
     "output_type": "stream",
     "text": [
      " 50\n"
     ]
    },
    {
     "name": "stdout",
     "output_type": "stream",
     "text": [
      "O Perimetro do circulo é 314.16\n",
      "Vamos fazer calculo do perimetro de formas geometricas?(Triangulo, Circulo, Retangulo e Quadrado)\n",
      "Digite a opção que deseja:\n",
      " 1 - Calcular perímetro triângulo \n",
      " 2 - Calcular perímetro círculo \n",
      " 3 - Calcular perímetro retângulo \n",
      " 4 - Sair\n"
     ]
    },
    {
     "name": "stdin",
     "output_type": "stream",
     "text": [
      " 3\n"
     ]
    },
    {
     "name": "stdout",
     "output_type": "stream",
     "text": [
      "Informe os dois lados do retângulo. Se for um quadrado, digite 0 para o segundo valor:\n"
     ]
    },
    {
     "name": "stdin",
     "output_type": "stream",
     "text": [
      " 10\n",
      " 0\n"
     ]
    },
    {
     "name": "stdout",
     "output_type": "stream",
     "text": [
      "O Perimetro do quadrado é 40\n",
      "Vamos fazer calculo do perimetro de formas geometricas?(Triangulo, Circulo, Retangulo e Quadrado)\n",
      "Digite a opção que deseja:\n",
      " 1 - Calcular perímetro triângulo \n",
      " 2 - Calcular perímetro círculo \n",
      " 3 - Calcular perímetro retângulo \n",
      " 4 - Sair\n"
     ]
    },
    {
     "name": "stdin",
     "output_type": "stream",
     "text": [
      " 3\n"
     ]
    },
    {
     "name": "stdout",
     "output_type": "stream",
     "text": [
      "Informe os dois lados do retângulo. Se for um quadrado, digite 0 para o segundo valor:\n"
     ]
    },
    {
     "name": "stdin",
     "output_type": "stream",
     "text": [
      " 40\n",
      " 0\n"
     ]
    },
    {
     "name": "stdout",
     "output_type": "stream",
     "text": [
      "O Perimetro do quadrado é 160\n",
      "Vamos fazer calculo do perimetro de formas geometricas?(Triangulo, Circulo, Retangulo e Quadrado)\n",
      "Digite a opção que deseja:\n",
      " 1 - Calcular perímetro triângulo \n",
      " 2 - Calcular perímetro círculo \n",
      " 3 - Calcular perímetro retângulo \n",
      " 4 - Sair\n"
     ]
    },
    {
     "name": "stdin",
     "output_type": "stream",
     "text": [
      " 4\n"
     ]
    }
   ],
   "source": [
    "## Escreva aqui o programa principal \n",
    "import math \n",
    "\n",
    "while True:\n",
    "    print(\"Vamos fazer calculo do perimetro de formas geometricas?(Triangulo, Circulo, Retangulo e Quadrado)\")  \n",
    "    print(\"Digite a opção que deseja:\")\n",
    "    print(\" 1 - Calcular perímetro triângulo \\n 2 - Calcular perímetro círculo \\n 3 - Calcular perímetro retângulo \\n 4 - Sair\")\n",
    "      \n",
    "    opc = int(input(\"\"))\n",
    "    if opc == 1:\n",
    "        print(\"Digite o primeiro valor dos lados do triangulo\")\n",
    "        x = int(input(\"\"))\n",
    "        print(\"Digite o segundo valor dos lados do triangulo\")\n",
    "        y = int(input(\"\"))\n",
    "        print(\"Digite o terceiro valor dos lados do triangulo\")\n",
    "        z = int(input(\"\"))\n",
    "        resultadoop1 = calcula_perimetro_triangulo(x,y,z)\n",
    "        print(\"O Perimetro é:\", resultadoop1)\n",
    "    elif opc == 2:\n",
    "        print(\"Para calcular o perimetro do circulo, informe o raio:\")\n",
    "        x = int(input(\"\"))\n",
    "        resultadoop2 = calcula_perimetro_circulo(x)\n",
    "        print(f\"O Perimetro do circulo é {resultadoop2:.2f}\")  \n",
    "    elif opc == 3:\n",
    "        print(\"Informe os dois lados do retângulo. Se for um quadrado, digite 0 para o segundo valor:\")\n",
    "        x = int(input(\"\"))\n",
    "        y = int(input(\"\"))\n",
    "        resultadoop3 = calcula_perimetro_retangulo(x, y)\n",
    "        if  y > 0:\n",
    "            print(\"O Perimetro do retangulo é\", resultadoop3)\n",
    "        else:\n",
    "         print(\"O Perimetro do quadrado é\", resultadoop3)\n",
    "    elif opc == 4:\n",
    "        break\n",
    "    \n",
    "    \n",
    "    "
   ]
  },
  {
   "cell_type": "markdown",
   "id": "3016bcc7",
   "metadata": {},
   "source": [
    "## Funções ```lambda```"
   ]
  },
  {
   "cell_type": "markdown",
   "id": "f9cdb8dd",
   "metadata": {},
   "source": [
    "### Q6.\n",
    "\n",
    "Crie uma função lambda para verificar se um número é par ou ímpar. Em seguida, solicite ao usuário um número indefinidos de valores (até que o usuário digite 0). Para cada valor de entrada, informe se é par ou ímpar.\n",
    "\n",
    "Exemplo de interação:\n",
    "```\n",
    "Digite os valores que deseja verificar a paridade (digite 0 para finalizar a entrada de dados):\n",
    "3\n",
    "ímpar\n",
    "8\n",
    "par\n",
    "12\n",
    "par\n",
    "5\n",
    "ímpar\n",
    "7ímpar\n",
    "```"
   ]
  },
  {
   "cell_type": "code",
   "execution_count": 71,
   "id": "e3c31a78",
   "metadata": {},
   "outputs": [
    {
     "name": "stdin",
     "output_type": "stream",
     "text": [
      "Digite um número (ou 0 para sair):  20\n"
     ]
    },
    {
     "name": "stdout",
     "output_type": "stream",
     "text": [
      "Este número é par\n"
     ]
    },
    {
     "name": "stdin",
     "output_type": "stream",
     "text": [
      "Digite um número (ou 0 para sair):  30\n"
     ]
    },
    {
     "name": "stdout",
     "output_type": "stream",
     "text": [
      "Este número é par\n"
     ]
    },
    {
     "name": "stdin",
     "output_type": "stream",
     "text": [
      "Digite um número (ou 0 para sair):  33\n"
     ]
    },
    {
     "name": "stdout",
     "output_type": "stream",
     "text": [
      "Este número é ímpar\n"
     ]
    },
    {
     "name": "stdin",
     "output_type": "stream",
     "text": [
      "Digite um número (ou 0 para sair):  0\n"
     ]
    },
    {
     "name": "stdout",
     "output_type": "stream",
     "text": [
      "Este número é par\n"
     ]
    }
   ],
   "source": [
    "par = (lambda x: print(\"Este número é par\") if x % 2 == 0 else print(\"Este número é ímpar\"))\n",
    "\n",
    "while True:\n",
    "    x = int(input(\"Digite um número (ou 0 para sair): \"))\n",
    "    \n",
    "    if x == 0:\n",
    "        break\n",
    "    par(x)"
   ]
  },
  {
   "cell_type": "markdown",
   "id": "5a87474d",
   "metadata": {},
   "source": [
    "### Q7.\n",
    "\n",
    "Escreva um programa que pergunte ao usuário qual operação ele deseja: maior ou menor.\n",
    "Em seguida leia uma quantidade indefinida de valores do usuário, até que o usuário digite o valor zero.\n",
    "Apresente ao final o maior ou menor dos valores digitados de acordo com a escolha do usuário.\n",
    "\n",
    "**Sua solução deve incluir pelo menos uma função ```lambda```** \n",
    "\n",
    "Exemplo de interação:\n",
    "```\n",
    "Opções: (1) maior ou (2) menor?\n",
    "Opção: 1\n",
    "\n",
    "Digite os valores de entrada. Digite 0 para finalizar a entrada de valores.\n",
    "4\n",
    "12\n",
    "15\n",
    "1\n",
    "0\n",
    "\n",
    "O maior valor é: 15\n",
    "```"
   ]
  },
  {
   "cell_type": "code",
   "execution_count": 86,
   "id": "ee3f68ca",
   "metadata": {},
   "outputs": [
    {
     "name": "stdout",
     "output_type": "stream",
     "text": [
      "Exemplo de interação: \n",
      "Opções: (1) maior ou (2) menor?\n"
     ]
    },
    {
     "name": "stdin",
     "output_type": "stream",
     "text": [
      " 1\n",
      " 2\n",
      " 3\n",
      " 45\n",
      " 0\n"
     ]
    },
    {
     "name": "stdout",
     "output_type": "stream",
     "text": [
      "45\n"
     ]
    }
   ],
   "source": [
    "## Escreva aqui o programa principal \n",
    "print(\"Exemplo de interação: \\nOpções: (1) maior ou (2) menor?\")\n",
    "opc = int(input(\"\"))\n",
    "if opc == 1:\n",
    "    result = float(\"-inf\")\n",
    "    op_function= lambda a, b: a > b\n",
    "else:\n",
    "    result = float(\"inf\")\n",
    "    op_function= lambda a, b: a < b \n",
    "\n",
    "while True:\n",
    "    x = int(input(\"\"))\n",
    "    if x == 0: break\n",
    "\n",
    "    if op_function(x, result):\n",
    "        result = x \n",
    "print(result)\n",
    "           "
   ]
  }
 ],
 "metadata": {
  "kernelspec": {
   "display_name": "Python 3 (ipykernel)",
   "language": "python",
   "name": "python3"
  },
  "language_info": {
   "codemirror_mode": {
    "name": "ipython",
    "version": 3
   },
   "file_extension": ".py",
   "mimetype": "text/x-python",
   "name": "python",
   "nbconvert_exporter": "python",
   "pygments_lexer": "ipython3",
   "version": "3.12.1"
  }
 },
 "nbformat": 4,
 "nbformat_minor": 5
}
