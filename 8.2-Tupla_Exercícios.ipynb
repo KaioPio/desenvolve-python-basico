{
 "cells": [
  {
   "cell_type": "markdown",
   "id": "0d5035b5",
   "metadata": {},
   "source": [
    "# Tupla\n",
    "\n",
    "## Aula 8.2"
   ]
  },
  {
   "cell_type": "markdown",
   "id": "0bdece85",
   "metadata": {},
   "source": [
    "### Q1. \n",
    "\n",
    "Escreva uma função ```calcula_area_perimetro``` que recebe **apenas um parâmetro** ```dimensoes``` e calcula a área e o perímetro a partir das dimensões dadas. \n",
    "- ```dimensoes``` é uma tupla (largura, comprimento) com as dimensões de um terreno retangular\n",
    "- Sua função deve calcular e retornar as seguintes operações\n",
    "   - $area = largura \\times comprimento$\n",
    "   - $perimetro = 2\\times(largura + comprimento)$\n"
   ]
  },
  {
   "cell_type": "code",
   "execution_count": 2,
   "id": "0a258eba",
   "metadata": {},
   "outputs": [],
   "source": [
    "# Implemente aqui a função calcula_area_perimetro\n",
    "def calcula_area_perimetro(dimensao):\n",
    "    largura, comprimento = dimensao \n",
    "    area = largura * comprimento\n",
    "    perimetro = 2 * (largura + comprimento)\n",
    "    return area, perimetro\n"
   ]
  },
  {
   "cell_type": "code",
   "execution_count": 4,
   "id": "e1866c04",
   "metadata": {},
   "outputs": [
    {
     "name": "stdout",
     "output_type": "stream",
     "text": [
      "(35, 24) <class 'tuple'>\n"
     ]
    }
   ],
   "source": [
    "# Complete o exemplo de uso abaixo\n",
    "largura = 5\n",
    "comprimento = 7\n",
    "\n",
    "retorno = calcula_area_perimetro((largura, comprimento))\n",
    "print(retorno, type(retorno))"
   ]
  },
  {
   "cell_type": "markdown",
   "id": "cbdcb986",
   "metadata": {},
   "source": [
    "### Q2.\n",
    "\n",
    "Dada uma string, imprima todas as vogais que aparecem na string, bem como todos os índices onde elas ocorrem. Para isso, use a função ```enumerate```.\n"
   ]
  },
  {
   "cell_type": "code",
   "execution_count": 6,
   "id": "1f6b1f2d",
   "metadata": {},
   "outputs": [
    {
     "name": "stdout",
     "output_type": "stream",
     "text": [
      "Vogal 'O' posição 0\n",
      "Vogal 'a' posição 3\n",
      "Vogal 'o' posição 5\n",
      "Vogal 'o' posição 8\n",
      "Vogal 'e' posição 9\n",
      "Vogal 'u' posição 10\n",
      "Vogal 'a' posição 12\n",
      "Vogal 'o' posição 15\n",
      "Vogal 'u' posição 16\n",
      "Vogal 'a' posição 18\n",
      "Vogal 'a' posição 21\n",
      "Vogal 'A' posição 23\n",
      "Vogal 'i' posição 25\n",
      "Vogal 'e' posição 27\n"
     ]
    }
   ],
   "source": [
    "frase = \"O rato roeu a roupa da Alice\"\n",
    "vogais = \"aeiouAEIOU\"\n",
    "\n",
    "for indice, cractere in enumerate(frase):\n",
    "    if cractere in vogais:\n",
    "        print(f\"Vogal '{cractere}' posição {indice}\")\n",
    "\n",
    "# Implemente aqui sua solução"
   ]
  },
  {
   "cell_type": "markdown",
   "id": "8d46663f",
   "metadata": {},
   "source": [
    "### Q3.\n",
    "\n",
    "Escreva uma função em Python chamada ```ordenar_tuplas``` que recebe uma lista de tuplas, cada uma contendo o nome de um aluno e sua respectiva média, e retorna uma nova lista ordenada em ordem decrescente de médias."
   ]
  },
  {
   "cell_type": "code",
   "execution_count": 9,
   "id": "469f2e6e",
   "metadata": {},
   "outputs": [],
   "source": [
    "# Implemente aqui a função ordenar_tuplas\n",
    "def ordenar_tuplas(lista): \n",
    "    return sorted(lista, key = lambda x: x[1], reverse=True)"
   ]
  },
  {
   "cell_type": "code",
   "execution_count": 10,
   "id": "1972c62b",
   "metadata": {},
   "outputs": [
    {
     "name": "stdout",
     "output_type": "stream",
     "text": [
      "[('Charlie', 9.0), ('David', 8.8), ('Alice', 8.5), ('Bob', 7.2)]\n"
     ]
    }
   ],
   "source": [
    "# Exemplo de uso:\n",
    "alunos_notas = [('Alice', 8.5), ('Bob', 7.2), ('Charlie', 9.0), ('David', 8.8)]\n",
    "resultado = ordenar_tuplas(alunos_notas)\n",
    "print(resultado)\n",
    "# Saída esperada: [('Charlie', 9.0), ('David', 8.8), ('Alice', 8.5), ('Bob', 7.2)]"
   ]
  },
  {
   "cell_type": "markdown",
   "id": "e0268fae",
   "metadata": {},
   "source": [
    "### Q4.\n",
    "\n",
    "Escreva uma função em Python chamada ```comprimir_tuplas``` que recebe uma lista de tuplas, cada uma contendo uma palavra e um número, e retorna uma nova lista de tuplas onde palavras idênticas são agrupadas e seus números são somados.\n",
    "\n"
   ]
  },
  {
   "cell_type": "code",
   "execution_count": 6,
   "id": "30a221f3",
   "metadata": {},
   "outputs": [],
   "source": [
    "# Implemente aqui a função comprimir_tuplas\n",
    "\n",
    "def comprimir_tuplas(lista):\n",
    "    resultado = {}\n",
    "    for palavra, numero in lista:\n",
    "        if palavra in resultado:\n",
    "            resultado[palavra] += numero\n",
    "        else:\n",
    "            resultado[palavra] = numero\n",
    "    return list(resultado.items())"
   ]
  },
  {
   "cell_type": "code",
   "execution_count": 7,
   "id": "80972bac",
   "metadata": {},
   "outputs": [
    {
     "name": "stdout",
     "output_type": "stream",
     "text": [
      "[('maçã', 8), ('banana', 5), ('laranja', 1)]\n"
     ]
    }
   ],
   "source": [
    "# Exemplo de uso:\n",
    "tuplas_originais = [('maçã', 3), ('banana', 2), ('maçã', 5), ('laranja', 1), ('banana', 3)]\n",
    "resultado = comprimir_tuplas(tuplas_originais)\n",
    "print(resultado)\n",
    "# Saída esperada: [('maçã', 8), ('banana', 5), ('laranja', 1)]"
   ]
  },
  {
   "cell_type": "markdown",
   "id": "649a5082",
   "metadata": {},
   "source": [
    "### Q5. \n",
    "\n",
    "- Escreva um script que peça o nome e a idade de todos na fila de uma balada. Crie uma lista de tuplas com os pares ```(nome, idade)``` de cada um. \n",
    "- Em seguida crie e imprima duas tuplas apenas com os nomes, uma com os menores de idade que não poderão entrar, e uma com os maiores de idade (```idade >= 18```). \n",
    "\n"
   ]
  },
  {
   "cell_type": "code",
   "execution_count": 8,
   "id": "47cb0573",
   "metadata": {},
   "outputs": [],
   "source": [
    "## Implemente aqui sua solução"
   ]
  },
  {
   "cell_type": "code",
   "execution_count": 13,
   "id": "2adf142f-9834-4c0c-8ed4-fe40a0a5088e",
   "metadata": {},
   "outputs": [
    {
     "name": "stdin",
     "output_type": "stream",
     "text": [
      "Quantas pessoas estão na fila?  3\n",
      "Digite o nome e a idade da pessoa 1 (Formato: nome,idade):  Carlos,14\n",
      "Digite o nome e a idade da pessoa 2 (Formato: nome,idade):  Angela,87\n",
      "Digite o nome e a idade da pessoa 3 (Formato: nome,idade):  Bradesco,21\n"
     ]
    },
    {
     "name": "stdout",
     "output_type": "stream",
     "text": [
      "Lista de quem pode passar e quem não podera:\n",
      "Menores de idade que não podem entrar:  ('Carlos',)\n",
      "Maiores de idade que poderão entrar:  ('Angela', 'Bradesco')\n"
     ]
    }
   ],
   "source": [
    "pessoas = []\n",
    "# Input e fazendo o split entre idade e numero e fazendo a adição a lista de pessoas. \n",
    "quantidade_p = int(input(\"Quantas pessoas estão na fila? \"))\n",
    "\n",
    "for i in range(quantidade_p):\n",
    "    entrada = input(f\"Digite o nome e a idade da pessoa {i+1} (Formato: nome,idade): \")\n",
    "    nome, idade = entrada.split(\",\")\n",
    "    pessoas.append((nome.strip(), int(idade)))\n",
    "\n",
    "menor_idade = []\n",
    "maior_idade = []\n",
    "# Adicionando em lista separadas os menores e maiores de idade\n",
    "for nome, idade in pessoas:\n",
    "    if idade >= 18:\n",
    "        maior_idade.append(nome)\n",
    "    else:\n",
    "        menor_idade.append(nome)\n",
    "\n",
    "tupla_menores = tuple(menor_idade)\n",
    "tupla_maior = tuple(maior_idade)\n",
    "\n",
    "print(\"Lista de quem pode passar e quem não podera:\")\n",
    "print(\"Menores de idade que não podem entrar: \", tupla_menores)\n",
    "print(\"Maiores de idade que poderão entrar: \", tupla_maior)\n",
    "\n",
    "        \n",
    "                \n",
    "    \n",
    "\n"
   ]
  },
  {
   "cell_type": "code",
   "execution_count": null,
   "id": "f11910d1-6a8c-4828-9309-c584983d9e21",
   "metadata": {},
   "outputs": [],
   "source": []
  }
 ],
 "metadata": {
  "kernelspec": {
   "display_name": "Python 3 (ipykernel)",
   "language": "python",
   "name": "python3"
  },
  "language_info": {
   "codemirror_mode": {
    "name": "ipython",
    "version": 3
   },
   "file_extension": ".py",
   "mimetype": "text/x-python",
   "name": "python",
   "nbconvert_exporter": "python",
   "pygments_lexer": "ipython3",
   "version": "3.13.5"
  }
 },
 "nbformat": 4,
 "nbformat_minor": 5
}
